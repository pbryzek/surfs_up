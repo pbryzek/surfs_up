{
 "cells": [
  {
   "cell_type": "code",
   "execution_count": 1,
   "metadata": {},
   "outputs": [],
   "source": [
    "# Python SQL toolkit and Object Relational Mapper\n",
    "import sqlalchemy\n",
    "from sqlalchemy.ext.automap import automap_base\n",
    "from sqlalchemy.orm import Session\n",
    "from sqlalchemy import create_engine, func\n",
    "\n",
    "from matplotlib import style\n",
    "style.use('fivethirtyeight')\n",
    "import matplotlib.pyplot as plt\n",
    "import numpy as np\n",
    "import datetime as dt"
   ]
  },
  {
   "cell_type": "code",
   "execution_count": 3,
   "metadata": {},
   "outputs": [],
   "source": [
    "import sqlite3\n",
    "#sqlite3.connect(\"sqlite:///Census_Data.sqlite\")"
   ]
  },
  {
   "cell_type": "code",
   "execution_count": 22,
   "metadata": {},
   "outputs": [
    {
     "data": {
      "text/html": [
       "<div>\n",
       "<style scoped>\n",
       "    .dataframe tbody tr th:only-of-type {\n",
       "        vertical-align: middle;\n",
       "    }\n",
       "\n",
       "    .dataframe tbody tr th {\n",
       "        vertical-align: top;\n",
       "    }\n",
       "\n",
       "    .dataframe thead th {\n",
       "        text-align: right;\n",
       "    }\n",
       "</style>\n",
       "<table border=\"1\" class=\"dataframe\">\n",
       "  <thead>\n",
       "    <tr style=\"text-align: right;\">\n",
       "      <th></th>\n",
       "      <th>CityState</th>\n",
       "      <th>city</th>\n",
       "      <th>state</th>\n",
       "      <th>Population</th>\n",
       "      <th>White Population</th>\n",
       "      <th>Black Population</th>\n",
       "      <th>Native American Population</th>\n",
       "      <th>Asian Population</th>\n",
       "      <th>Hispanic Population</th>\n",
       "      <th>Education None</th>\n",
       "      <th>...</th>\n",
       "      <th>Employment Female Computer Engineering</th>\n",
       "      <th>Median Age</th>\n",
       "      <th>Median Male Age</th>\n",
       "      <th>Median Female Age</th>\n",
       "      <th>Household Income</th>\n",
       "      <th>Income Per Capita</th>\n",
       "      <th>Median Gross Rent</th>\n",
       "      <th>Median Home Value</th>\n",
       "      <th>lat</th>\n",
       "      <th>lng</th>\n",
       "    </tr>\n",
       "  </thead>\n",
       "  <tbody>\n",
       "    <tr>\n",
       "      <th>0</th>\n",
       "      <td>PROVO, UT</td>\n",
       "      <td>PROVO</td>\n",
       "      <td>UT</td>\n",
       "      <td>115828</td>\n",
       "      <td>102237</td>\n",
       "      <td>715</td>\n",
       "      <td>511</td>\n",
       "      <td>3029</td>\n",
       "      <td>19980</td>\n",
       "      <td>511</td>\n",
       "      <td>...</td>\n",
       "      <td>623</td>\n",
       "      <td>23.833333</td>\n",
       "      <td>24.266667</td>\n",
       "      <td>23.266667</td>\n",
       "      <td>41659.33333</td>\n",
       "      <td>17196.0</td>\n",
       "      <td>754.333333</td>\n",
       "      <td>206733.3333</td>\n",
       "      <td>40.253223</td>\n",
       "      <td>-111.63325</td>\n",
       "    </tr>\n",
       "  </tbody>\n",
       "</table>\n",
       "<p>1 rows × 31 columns</p>\n",
       "</div>"
      ],
      "text/plain": [
       "   CityState   city state  Population  White Population  Black Population  \\\n",
       "0  PROVO, UT  PROVO    UT      115828            102237               715   \n",
       "\n",
       "   Native American Population  Asian Population  Hispanic Population  \\\n",
       "0                         511              3029                19980   \n",
       "\n",
       "   Education None  ...  Employment Female Computer Engineering  Median Age  \\\n",
       "0             511  ...                                     623   23.833333   \n",
       "\n",
       "   Median Male Age  Median Female Age  Household Income  Income Per Capita  \\\n",
       "0        24.266667          23.266667       41659.33333            17196.0   \n",
       "\n",
       "   Median Gross Rent  Median Home Value        lat        lng  \n",
       "0         754.333333        206733.3333  40.253223 -111.63325  \n",
       "\n",
       "[1 rows x 31 columns]"
      ]
     },
     "execution_count": 22,
     "metadata": {},
     "output_type": "execute_result"
    }
   ],
   "source": [
    "# reflect an existing database into a new model\n",
    "engine = create_engine(\"sqlite:///Census_Data.sqlite\")\n",
    "conn = engine.connect()\n",
    "query = pd.read_sql(\"SELECT * FROM Census_Data where Population > 100000 AND city = 'PROVO' ORDER BY 'Median Age' DESC\", conn)\n",
    "#query = pd.read_sql(\"SELECT * FROM Census_Data where Population > 100000 ORDER BY 'Median Age' DESC\", conn)\n",
    "\n",
    "query.head(30)\n",
    "#query.keys()\n"
   ]
  },
  {
   "cell_type": "code",
   "execution_count": 5,
   "metadata": {},
   "outputs": [
    {
     "data": {
      "text/plain": [
       "[]"
      ]
     },
     "execution_count": 5,
     "metadata": {},
     "output_type": "execute_result"
    }
   ],
   "source": [
    "Base = automap_base()\n",
    "# reflect the tables\n",
    "Base.prepare(engine, reflect=True)\n",
    "Base.classes.keys()"
   ]
  },
  {
   "cell_type": "code",
   "execution_count": 6,
   "metadata": {},
   "outputs": [
    {
     "data": {
      "text/plain": [
       "[]"
      ]
     },
     "execution_count": 6,
     "metadata": {},
     "output_type": "execute_result"
    }
   ],
   "source": [
    "# We can view all of the classes that automap found\n",
    "Base.classes.keys()"
   ]
  },
  {
   "cell_type": "code",
   "execution_count": null,
   "metadata": {},
   "outputs": [],
   "source": [
    "session = Session(engine)"
   ]
  },
  {
   "cell_type": "code",
   "execution_count": null,
   "metadata": {},
   "outputs": [],
   "source": [
    "Measurement = Base.classes.measurement\n",
    "results = session.query(Measurement.date, Measurement.prcp)"
   ]
  },
  {
   "cell_type": "code",
   "execution_count": null,
   "metadata": {},
   "outputs": [],
   "source": []
  }
 ],
 "metadata": {
  "kernelspec": {
   "display_name": "PythonData",
   "language": "python",
   "name": "pythondata"
  },
  "language_info": {
   "codemirror_mode": {
    "name": "ipython",
    "version": 3
   },
   "file_extension": ".py",
   "mimetype": "text/x-python",
   "name": "python",
   "nbconvert_exporter": "python",
   "pygments_lexer": "ipython3",
   "version": "3.7.6"
  }
 },
 "nbformat": 4,
 "nbformat_minor": 4
}
